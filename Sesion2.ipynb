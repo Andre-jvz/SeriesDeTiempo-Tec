{
  "nbformat": 4,
  "nbformat_minor": 0,
  "metadata": {
    "colab": {
      "provenance": [],
      "authorship_tag": "ABX9TyN5gP5tdOHpEu4vD16GtZoE",
      "include_colab_link": true
    },
    "kernelspec": {
      "name": "python3",
      "display_name": "Python 3"
    },
    "language_info": {
      "name": "python"
    }
  },
  "cells": [
    {
      "cell_type": "markdown",
      "metadata": {
        "id": "view-in-github",
        "colab_type": "text"
      },
      "source": [
        "<a href=\"https://colab.research.google.com/github/jaime-escobedo-tec/SeriesDeTiempo-Tec/blob/main/Sesion2.ipynb\" target=\"_parent\"><img src=\"https://colab.research.google.com/assets/colab-badge.svg\" alt=\"Open In Colab\"/></a>"
      ]
    },
    {
      "cell_type": "markdown",
      "source": [
        "# series de tiempo\n",
        "## nombre completo matricula\n",
        "### Sesión 2 - 15 feb 2023"
      ],
      "metadata": {
        "id": "KWomAaZgnVv3"
      }
    },
    {
      "cell_type": "markdown",
      "source": [
        "Crea una lista que contenga los integrantes de tu famila"
      ],
      "metadata": {
        "id": "p27nbQsznn3Z"
      }
    },
    {
      "cell_type": "code",
      "source": [
        "mifamilia= ['integrante1', 'integrante2', 'integrante3', 'etc']"
      ],
      "metadata": {
        "id": "Feb5z6UNn4aR"
      },
      "execution_count": 2,
      "outputs": []
    },
    {
      "cell_type": "markdown",
      "source": [
        "Vamos a elegir el integrante 1, *Nota: python comienza a contar desde cero*"
      ],
      "metadata": {
        "id": "YJAFBTuMtT01"
      }
    },
    {
      "cell_type": "code",
      "source": [],
      "metadata": {
        "id": "Ixh0UsWxtS8K"
      },
      "execution_count": null,
      "outputs": []
    },
    {
      "cell_type": "markdown",
      "source": [
        "creamos una lista que contenga números"
      ],
      "metadata": {
        "id": "BhZd5FqbqR-w"
      }
    },
    {
      "cell_type": "code",
      "source": [
        "numeros =[]"
      ],
      "metadata": {
        "id": "FGC3sC38qWRl"
      },
      "execution_count": 11,
      "outputs": []
    },
    {
      "cell_type": "markdown",
      "source": [
        "importamos un par de librerias/módulos. Que nos ayudaran a manejar números"
      ],
      "metadata": {
        "id": "garsXSaUrF2I"
      }
    },
    {
      "cell_type": "code",
      "source": [
        "import numpy as np\n",
        "import pandas as pd"
      ],
      "metadata": {
        "id": "bU_nvGiHqZwI"
      },
      "execution_count": 4,
      "outputs": []
    },
    {
      "cell_type": "markdown",
      "source": [
        "Calcularemos la media de estos números y los ordenaremos"
      ],
      "metadata": {
        "id": "AzI1hXZ-rPU7"
      }
    },
    {
      "cell_type": "code",
      "source": [
        "# primero convertimos estos numeros en arreglo\n"
      ],
      "metadata": {
        "id": "QOJzJK_4rXz5"
      },
      "execution_count": 12,
      "outputs": []
    },
    {
      "cell_type": "code",
      "source": [
        "#calculamos la media y redondeamos a un decimal\n"
      ],
      "metadata": {
        "id": "xv8JeXHHrnW8"
      },
      "execution_count": null,
      "outputs": []
    },
    {
      "cell_type": "code",
      "source": [
        "#ordenamos los números con .sort()\n"
      ],
      "metadata": {
        "id": "0QLhe5dwrx6o"
      },
      "execution_count": 13,
      "outputs": []
    },
    {
      "cell_type": "code",
      "source": [
        "#mostramos los números\n"
      ],
      "metadata": {
        "id": "QemwgdJCr7o2"
      },
      "execution_count": null,
      "outputs": []
    },
    {
      "cell_type": "markdown",
      "source": [
        "Pandas utiliza una estructura de datos llamada **DataFrames**, que no son otra cosa que datos organizados en filas y columnas"
      ],
      "metadata": {
        "id": "oVt4bP0GtpMh"
      }
    },
    {
      "cell_type": "code",
      "source": [
        "##creamos un diccionario \n",
        "dic_grupo = {'nombre':['Juan','Ale', 'Jime', 'David'], \n",
        "             'Edad':[23,14,28,18],\n",
        "             'calificación':[90,70,45,85]}"
      ],
      "metadata": {
        "id": "K4gLhsaWuqiP"
      },
      "execution_count": 16,
      "outputs": []
    },
    {
      "cell_type": "code",
      "source": [
        "##vemos su contenido\n"
      ],
      "metadata": {
        "id": "Fjtzr2EkvqjO"
      },
      "execution_count": null,
      "outputs": []
    },
    {
      "cell_type": "code",
      "source": [
        "## ahora lo convertimos en DataFrame con pandas\n"
      ],
      "metadata": {
        "id": "OoviX2cUvuy6"
      },
      "execution_count": 18,
      "outputs": []
    },
    {
      "cell_type": "code",
      "source": [
        "# ahora vemos el dataframe\n"
      ],
      "metadata": {
        "id": "ZDhZo2vzv6eN"
      },
      "execution_count": null,
      "outputs": []
    },
    {
      "cell_type": "code",
      "source": [
        "# El nombre de las columnas se llama columns\n"
      ],
      "metadata": {
        "id": "lF5lYUx8wA2G"
      },
      "execution_count": null,
      "outputs": []
    },
    {
      "cell_type": "code",
      "source": [
        "# el nombre de las filas se llama Index\n"
      ],
      "metadata": {
        "id": "0JYl8Ah_wKJb"
      },
      "execution_count": null,
      "outputs": []
    },
    {
      "cell_type": "code",
      "source": [
        "# vemos su estructura con shape\n"
      ],
      "metadata": {
        "id": "weV0n0gBwS6a"
      },
      "execution_count": null,
      "outputs": []
    },
    {
      "cell_type": "code",
      "source": [
        "# seleccionamos la columna nombre\n"
      ],
      "metadata": {
        "id": "QQYW2JuCxpSh"
      },
      "execution_count": null,
      "outputs": []
    },
    {
      "cell_type": "code",
      "source": [
        "# seleccionamos la columna Edad\n"
      ],
      "metadata": {
        "id": "PbseyozDxpdP"
      },
      "execution_count": null,
      "outputs": []
    },
    {
      "cell_type": "code",
      "source": [
        "# seleccionamos la columna edad y la columna nombre\n"
      ],
      "metadata": {
        "id": "_KsenuyrxzUZ"
      },
      "execution_count": null,
      "outputs": []
    },
    {
      "cell_type": "markdown",
      "source": [
        "## Repaso de inferencia"
      ],
      "metadata": {
        "id": "aODKCnGcxiSE"
      }
    },
    {
      "cell_type": "code",
      "source": [],
      "metadata": {
        "id": "T1fNPyUMwjNn"
      },
      "execution_count": null,
      "outputs": []
    }
  ]
}