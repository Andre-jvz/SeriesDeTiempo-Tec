{
  "nbformat": 4,
  "nbformat_minor": 0,
  "metadata": {
    "colab": {
      "provenance": [],
      "authorship_tag": "ABX9TyMrIode0Q63+YuOqdNNZswl",
      "include_colab_link": true
    },
    "kernelspec": {
      "name": "python3",
      "display_name": "Python 3"
    },
    "language_info": {
      "name": "python"
    }
  },
  "cells": [
    {
      "cell_type": "markdown",
      "metadata": {
        "id": "view-in-github",
        "colab_type": "text"
      },
      "source": [
        "<a href=\"https://colab.research.google.com/github/jaime-escobedo-tec/SeriesDeTiempo-Tec/blob/main/Sesion2.ipynb\" target=\"_parent\"><img src=\"https://colab.research.google.com/assets/colab-badge.svg\" alt=\"Open In Colab\"/></a>"
      ]
    },
    {
      "cell_type": "markdown",
      "source": [
        "# series de tiempo\n",
        "## nombre completo matricula\n",
        "### Sesión 2 - 15 feb 2023"
      ],
      "metadata": {
        "id": "KWomAaZgnVv3"
      }
    },
    {
      "cell_type": "markdown",
      "source": [
        "Crea una lista que contenga los integrantes de tu famila"
      ],
      "metadata": {
        "id": "p27nbQsznn3Z"
      }
    },
    {
      "cell_type": "code",
      "source": [
        "mifamilia= ['integrante1', 'integrante2', 'integrante3', 'etc']"
      ],
      "metadata": {
        "id": "Feb5z6UNn4aR"
      },
      "execution_count": 2,
      "outputs": []
    },
    {
      "cell_type": "markdown",
      "source": [
        "creamos unalista que contenga números"
      ],
      "metadata": {
        "id": "BhZd5FqbqR-w"
      }
    },
    {
      "cell_type": "code",
      "source": [
        "numeros =[4,8,6,7]"
      ],
      "metadata": {
        "id": "FGC3sC38qWRl"
      },
      "execution_count": 11,
      "outputs": []
    },
    {
      "cell_type": "markdown",
      "source": [
        "importamos un par de librerias/módulos"
      ],
      "metadata": {
        "id": "garsXSaUrF2I"
      }
    },
    {
      "cell_type": "code",
      "source": [
        "import numpy as np\n",
        "import pandas as pd"
      ],
      "metadata": {
        "id": "bU_nvGiHqZwI"
      },
      "execution_count": 4,
      "outputs": []
    },
    {
      "cell_type": "markdown",
      "source": [
        "Calcularemos la media de estos números y los ordenaremos"
      ],
      "metadata": {
        "id": "AzI1hXZ-rPU7"
      }
    },
    {
      "cell_type": "code",
      "source": [
        "# primero convertimos estos numeros en arreglo\n"
      ],
      "metadata": {
        "id": "QOJzJK_4rXz5"
      },
      "execution_count": 12,
      "outputs": []
    },
    {
      "cell_type": "code",
      "source": [
        "#calculamos la media y redondeamos a un decimal\n"
      ],
      "metadata": {
        "colab": {
          "base_uri": "https://localhost:8080/"
        },
        "id": "xv8JeXHHrnW8",
        "outputId": "a6525472-990c-4231-f34f-683debf6f624"
      },
      "execution_count": 9,
      "outputs": [
        {
          "output_type": "execute_result",
          "data": {
            "text/plain": [
              "5.5"
            ]
          },
          "metadata": {},
          "execution_count": 9
        }
      ]
    },
    {
      "cell_type": "code",
      "source": [
        "#ordenamos los números con .sort()\n"
      ],
      "metadata": {
        "id": "0QLhe5dwrx6o"
      },
      "execution_count": 13,
      "outputs": []
    },
    {
      "cell_type": "code",
      "source": [
        "#mostramos los números\n"
      ],
      "metadata": {
        "colab": {
          "base_uri": "https://localhost:8080/"
        },
        "id": "QemwgdJCr7o2",
        "outputId": "f6414c54-a4e4-44cd-8798-2a9e80c73b6d"
      },
      "execution_count": 14,
      "outputs": [
        {
          "output_type": "execute_result",
          "data": {
            "text/plain": [
              "array([4, 6, 7, 8])"
            ]
          },
          "metadata": {},
          "execution_count": 14
        }
      ]
    }
  ]
}